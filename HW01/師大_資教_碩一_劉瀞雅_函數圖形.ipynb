{
  "nbformat": 4,
  "nbformat_minor": 0,
  "metadata": {
    "colab": {
      "provenance": [],
      "authorship_tag": "ABX9TyM/O+jVAm+qatjsjNdMk9FH",
      "include_colab_link": true
    },
    "kernelspec": {
      "name": "python3",
      "display_name": "Python 3"
    },
    "language_info": {
      "name": "python"
    }
  },
  "cells": [
    {
      "cell_type": "markdown",
      "metadata": {
        "id": "view-in-github",
        "colab_type": "text"
      },
      "source": [
        "<a href=\"https://colab.research.google.com/github/chingya211/Gen-AI/blob/main/HW01/%E5%B8%AB%E5%A4%A7_%E8%B3%87%E6%95%99_%E7%A2%A9%E4%B8%80_%E5%8A%89%E7%80%9E%E9%9B%85_%E5%87%BD%E6%95%B8%E5%9C%96%E5%BD%A2.ipynb\" target=\"_parent\"><img src=\"https://colab.research.google.com/assets/colab-badge.svg\" alt=\"Open In Colab\"/></a>"
      ]
    },
    {
      "cell_type": "code",
      "execution_count": null,
      "metadata": {
        "id": "xUaSFeP3dY2E"
      },
      "outputs": [],
      "source": [
        "%matplotlib inline\n",
        "\n",
        "import numpy as np\n",
        "import pandas as pd\n",
        "import matplotlib.pyplot as plt\n",
        "import seaborn as sns"
      ]
    },
    {
      "cell_type": "markdown",
      "source": [
        "# 畫函數圖形\n",
        "\n",
        "利用函數畫出一隻蝴蝶\n",
        "### 1. 先定義、模組化繪製圓形、橢圓形的function"
      ],
      "metadata": {
        "id": "wUDu3_Ywecuv"
      }
    },
    {
      "cell_type": "code",
      "source": [
        "import matplotlib.patches as patches\n",
        "\n",
        "def draw_circle(ax, center, radius, color='black', fill=False, zorder=2): # 設定(開始繪製座標、中心點、圓半徑、顏色、是否填色、圖層)\n",
        "    circle = patches.Circle(center, radius, edgecolor=color, facecolor=color if fill else 'none', linewidth=2, zorder=zorder)\n",
        "    ax.add_patch(circle)\n",
        "\n",
        "def draw_ellipse(ax, center, width, height, angle=0, color='black', fill=False): # 設定(開始繪製座標、中心點、寬度、高度、角度、顏色、是否填色)\n",
        "    ellipse = patches.Ellipse(center, width, height, angle=angle, edgecolor=color, facecolor=color if fill else 'none', linewidth=2)\n",
        "    ax.add_patch(ellipse)"
      ],
      "metadata": {
        "id": "Deky5MKHePl2"
      },
      "execution_count": null,
      "outputs": []
    },
    {
      "cell_type": "markdown",
      "source": [
        "### 2. 定義、模組化繪製蝴蝶的function\n",
        "先將基本元素呈現出，並將頭與身體部分切分開來\n",
        "##### 2.1 繪製頭部圓圈\n",
        "##### 2.2 繪製橢圓形身體\n",
        "*   調整身體與翅膀比例大小\n",
        "##### 2.3 繪出左、右邊翅膀，上下對稱\n",
        "##### 2.4 針對細節刻畫、調整圖層位置\n",
        "\n",
        "*   修改翅膀樣式：新增白色及紅色圓點、使紅色圓點移至靠近身體側\n",
        "*   調整觸角樣式：增加粗度、改為咖啡色、將圖層下移至頭部下層\n",
        "*   增加眼睛：區分眼白及眼球部分"
      ],
      "metadata": {
        "id": "2dHkVqwTjgva"
      }
    },
    {
      "cell_type": "code",
      "source": [
        "def draw_butterfly():\n",
        "    fig, ax = plt.subplots(figsize=(6,6))\n",
        "    ax.set_xlim(-1, 1)\n",
        "    ax.set_ylim(-1, 1)\n",
        "    ax.set_aspect('equal')\n",
        "    ax.axis('off')\n",
        "\n",
        "    head_center = (0, 0.4)\n",
        "    head_radius = 0.12\n",
        "    draw_circle(ax, head_center, head_radius, color='black', fill=True)\n",
        "\n",
        "    body_center = (0, 0)\n",
        "    body_width, body_height = 0.15, 0.5\n",
        "    draw_ellipse(ax, body_center, body_width, body_height, color='black', fill=True)\n",
        "\n",
        "    draw_ellipse(ax, (-0.35, 0.2), 0.4, 0.5, angle=30, color='purple', fill=True)\n",
        "    draw_ellipse(ax, (-0.35, -0.2), 0.4, 0.5, angle=-30, color='purple', fill=True)\n",
        "    draw_ellipse(ax, (0.35, 0.2), 0.4, 0.5, angle=-30, color='orange', fill=True)\n",
        "    draw_ellipse(ax, (0.35, -0.2), 0.4, 0.5, angle=30, color='orange', fill=True)\n",
        "\n",
        "    # 畫出翅膀上的白色圓圈\n",
        "    draw_circle(ax, (-0.35, 0.3), 0.1, color='white', fill=True, zorder=3)\n",
        "    draw_circle(ax, (-0.35, -0.3), 0.1, color='white', fill=True, zorder=3)\n",
        "    draw_circle(ax, (0.35, 0.3), 0.1, color='white', fill=True, zorder=3)\n",
        "    draw_circle(ax, (0.35, -0.3), 0.1, color='white', fill=True, zorder=3)\n",
        "\n",
        "    # 在靠近身體側畫出小紅色圓圈\n",
        "    draw_circle(ax, (-0.25, 0.15), 0.05, color='red', fill=True, zorder=2)\n",
        "    draw_circle(ax, (0.25, 0.15), 0.05, color='red', fill=True, zorder=2)\n",
        "\n",
        "    # 繪製眼睛\n",
        "    draw_circle(ax, (-0.04, 0.45), 0.025, color='white', fill=True, zorder=4)\n",
        "    draw_circle(ax, (0.04, 0.45), 0.025, color='white', fill=True, zorder=4)\n",
        "    draw_circle(ax, (-0.04, 0.45), 0.012, color='gray', fill=True, zorder=5)\n",
        "    draw_circle(ax, (0.04, 0.45), 0.012, color='gray', fill=True, zorder=5)\n",
        "\n",
        "    # 繪製咖啡色短觸角的線條，並下移圖層至頭部下方\n",
        "    ax.plot([-0.04, -0.12], [0.5, 0.6], color='brown', linewidth=3, zorder=1)\n",
        "    ax.plot([0.04, 0.12], [0.5, 0.6], color='brown', linewidth=3, zorder=1)\n",
        "\n",
        "    plt.show()"
      ],
      "metadata": {
        "id": "7INC27zCjdw9"
      },
      "execution_count": null,
      "outputs": []
    },
    {
      "cell_type": "markdown",
      "source": [
        "# 3. 呼叫函數繪製出圖形"
      ],
      "metadata": {
        "id": "-XUqcODvBScR"
      }
    },
    {
      "cell_type": "code",
      "source": [
        "draw_butterfly()"
      ],
      "metadata": {
        "colab": {
          "base_uri": "https://localhost:8080/",
          "height": 499
        },
        "id": "yyzmjB__ASZw",
        "outputId": "6dd14d02-0a10-4255-d7a1-e885dbad2f7a"
      },
      "execution_count": null,
      "outputs": [
        {
          "output_type": "display_data",
          "data": {
            "text/plain": [
              "<Figure size 600x600 with 1 Axes>"
            ],
            "image/png": "[encoded data removed]"
          },
          "metadata": {}
        }
      ]
    }
  ]
}